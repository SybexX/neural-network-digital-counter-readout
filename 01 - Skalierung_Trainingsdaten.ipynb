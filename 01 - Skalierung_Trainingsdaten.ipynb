{
 "cells": [
  {
   "cell_type": "markdown",
   "metadata": {},
   "source": [
    "# Skalierung Trainingsdaten\n",
    "\n",
    "Die Trainingsbilder für das neuronale Netz müssen alle die gleiche Größe haben, da der Eingangslayer eine feste Größe hat. Dieses Skript nimmt alle bilder im Ordner \"Input_dir\", skaliert diese auf die Zielgröße (targe_size_x/y) und gibt sie dann im Ausgabeverzeichnis aus. Letzeres wird vorher noch gelöscht.\n",
    "Any other image converter can be used as well.\n",
    "\n",
    "### Vorbereitung (Laden der Bibliotheken und Einstellungen)\n",
    "Für die Bildbearbeitung und Dateioperationen werden drei Bibliotheken benötigt.\n",
    "Input_dir / Output_dir = Verzeichnis für Quell- und Zieldaten\n",
    "target_size_x/y = Zielgröße für die Skalierung"
   ]
  },
  {
   "cell_type": "code",
   "execution_count": 1,
   "metadata": {},
   "outputs": [],
   "source": [
    "import glob\n",
    "import os\n",
    "from PIL import Image\n",
    "\n",
    "# folgendes falls man nochmal mit allen Bilder anfangen will (z.B. anderes CutOff für Vergleich)\n",
    "#Input_dir = '01_data_raw_all_original'\n",
    "#Output_dir= '02_data_resize_all_remove_duplicate_and_new_images'\n",
    "\n",
    "Input_dir = '02_data_resize_all_remove_duplicate_and_new_images'\n",
    "Output_dir= '03_data_resize_all-use_for_training'\n",
    "\n",
    "target_size_x = 20\n",
    "target_size_y = 32\n"
   ]
  },
  {
   "cell_type": "code",
   "execution_count": 2,
   "metadata": {},
   "outputs": [],
   "source": [
    "def ziffer_data_files(input_dir):\n",
    "    '''return a list of all images in given input dir in all subdirectories'''\n",
    "    imgfiles = []\n",
    "    for root, dirs, files in os.walk(input_dir):\n",
    "        for file in files:\n",
    "            if (file.endswith(\".jpg\")):\n",
    "                imgfiles.append(root + \"/\" + file)\n",
    "    return  imgfiles"
   ]
  },
  {
   "cell_type": "markdown",
   "metadata": {},
   "source": [
    "### Löschen der Bilder im Zielverzeichnisses"
   ]
  },
  {
   "cell_type": "code",
   "execution_count": 3,
   "metadata": {},
   "outputs": [
    {
     "name": "stdout",
     "output_type": "stream",
     "text": [
      "Es wurden -1 Dateien gelöscht.\n"
     ]
    }
   ],
   "source": [
    "files = ziffer_data_files(Output_dir)\n",
    "\n",
    "i = 0\n",
    "for f in files:\n",
    "    os.remove(f)\n",
    "    i=i+1\n",
    "    \n",
    "print(\"Es wurden \" + str(i-1) + \" Dateien gelöscht.\")"
   ]
  },
  {
   "cell_type": "markdown",
   "metadata": {},
   "source": [
    "### Umskalierung aller Bilder\n",
    "Hier wird auch keine Glättung oder ähnliches bei der Skalierung sondern \"Nearest\" verwendet, da dies der Bildverarbeitung in den ESP32-Bibliotheken am nächsten ist."
   ]
  },
  {
   "cell_type": "code",
   "execution_count": 4,
   "metadata": {},
   "outputs": [
    {
     "name": "stdout",
     "output_type": "stream",
     "text": [
      "500 02_data_resize_all_remove_duplicate_and_new_images/4_digit6_20210814-092830.jpg\n",
      "1000 02_data_resize_all_remove_duplicate_and_new_images/NaN_20200910-030555_ROI5.jpg\n",
      "1323\n"
     ]
    }
   ],
   "source": [
    "files = ziffer_data_files(Input_dir)\n",
    "\n",
    "count = 0\n",
    "for aktfile in files:\n",
    "    count = count + 1\n",
    "    if count%500==0:\n",
    "        print(count, aktfile)\n",
    "\n",
    "#    print(aktfile)\n",
    "    test_image = Image.open(aktfile)\n",
    "    test_image = test_image.resize((target_size_x, target_size_y), Image.Resampling.NEAREST)\n",
    "    base=os.path.basename(aktfile)\n",
    "    save_name = Output_dir + '/' + base\n",
    "    test_image.save(save_name, \"JPEG\", quality = 100)\n",
    "print(count)"
   ]
  },
  {
   "cell_type": "code",
   "execution_count": null,
   "metadata": {},
   "outputs": [],
   "source": []
  },
  {
   "cell_type": "code",
   "execution_count": null,
   "metadata": {},
   "outputs": [],
   "source": []
  }
 ],
 "metadata": {
  "kernelspec": {
   "display_name": "Python 3 (ipykernel)",
   "language": "python",
   "name": "python3"
  },
  "language_info": {
   "codemirror_mode": {
    "name": "ipython",
    "version": 3
   },
   "file_extension": ".py",
   "mimetype": "text/x-python",
   "name": "python",
   "nbconvert_exporter": "python",
   "pygments_lexer": "ipython3",
   "version": "3.11.11"
  }
 },
 "nbformat": 4,
 "nbformat_minor": 4
}
